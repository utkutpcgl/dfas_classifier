{
 "cells": [
  {
   "cell_type": "code",
   "execution_count": null,
   "metadata": {},
   "outputs": [],
   "source": [
    "from dataloader import C_DICT, class_names, class_to_idx_dict\n",
    "from c_hmcnn_efficient_net import R_constraint_matrix, get_constr_out"
   ]
  },
  {
   "cell_type": "code",
   "execution_count": null,
   "metadata": {},
   "outputs": [],
   "source": [
    "import torch\n",
    "at = torch.tensor([True,False,True])\n",
    "bt = torch.tensor([1,0,1])\n",
    "sum(at==bt)\n",
    "torch.sum(torch.logical_and(at, bt))"
   ]
  },
  {
   "cell_type": "code",
   "execution_count": null,
   "metadata": {},
   "outputs": [],
   "source": [
    "single_eff_net = torch.hub.load('NVIDIA/DeepLearningExamples:torchhub', 'nvidia_efficientnet_b0', pretrained=True)\n",
    "hier_classification_head = torch.nn.Linear(in_features = single_eff_net.classifier.fc.in_features, out_features =  19)\n",
    "single_eff_net.classifier.fc = hier_classification_head\n",
    "single_eff_net"
   ]
  },
  {
   "cell_type": "code",
   "execution_count": null,
   "metadata": {},
   "outputs": [],
   "source": [
    "single_eff_net = torchvision.models.regnet_x_16gf(pretrained=True)\n",
    "single_eff_net"
   ]
  },
  {
   "cell_type": "code",
   "execution_count": null,
   "metadata": {},
   "outputs": [],
   "source": [
    "import torchvision\n",
    "single_eff_net = torchvision.models.efficientnet_b0(pretrained=True)# torch.hub.load('NVIDIA/DeepLearningExamples:torchhub', 'nvidia_efficientnet_b0', pretrained=True)\n",
    "single_eff_net.classifier[1]"
   ]
  },
  {
   "cell_type": "code",
   "execution_count": null,
   "metadata": {},
   "outputs": [],
   "source": [
    "ct = torch.tensor([1.0,1.0,0.0])\n",
    "ct == at"
   ]
  },
  {
   "cell_type": "code",
   "execution_count": null,
   "metadata": {},
   "outputs": [],
   "source": [
    "import torch\n",
    "c_out = torch.arange(19).reshape(19,1)\n",
    "c_out = c_out.expand(R_constraint_matrix.shape[1], R_constraint_matrix.shape[1], R_constraint_matrix.shape[1])\n",
    "out = c_out.to(\"cuda\")*R_constraint_matrix\n",
    "out"
   ]
  },
  {
   "cell_type": "code",
   "execution_count": null,
   "metadata": {},
   "outputs": [],
   "source": [
    "R_constraint_matrix.expand(R_constraint_matrix.shape[1], R_constraint_matrix.shape[1], R_constraint_matrix.shape[1])"
   ]
  },
  {
   "cell_type": "code",
   "execution_count": null,
   "metadata": {},
   "outputs": [],
   "source": [
    "at = R_constraint_matrix[0,1,:] # dim=2 gives ancestors.\n",
    "C_REVERSED = {val: key for key,val in C_DICT.items()}\n",
    "for idx, a in enumerate(at):\n",
    "    if a.item() == 1:\n",
    "        print(idx, C_REVERSED[idx])\n",
    "\n",
    "\n"
   ]
  },
  {
   "cell_type": "code",
   "execution_count": null,
   "metadata": {},
   "outputs": [],
   "source": [
    "x = torch.tensor([10,5,0,0,0,0,0,0,15,4,0,0,0,5,0,0,0,0,0]).reshape(1,19)\n",
    "x.shape"
   ]
  },
  {
   "cell_type": "code",
   "execution_count": null,
   "metadata": {},
   "outputs": [],
   "source": [
    "C_DICTNUMBER_OF_CLASSES"
   ]
  },
  {
   "cell_type": "code",
   "execution_count": null,
   "metadata": {},
   "outputs": [],
   "source": [
    "labels_batch = torch.tensor([1,4,6,3,6,7,10]).unsqueeze(dim = 0)\n",
    "R_constraint_matrix[0, labels_batch, :]"
   ]
  },
  {
   "cell_type": "code",
   "execution_count": null,
   "metadata": {},
   "outputs": [],
   "source": [
    "get_constr_out(x, R_constraint_matrix.transpose(1,2)) # You need descendants for the constraint output."
   ]
  },
  {
   "cell_type": "code",
   "execution_count": null,
   "metadata": {},
   "outputs": [],
   "source": [
    "class_names"
   ]
  }
 ],
 "metadata": {
  "interpreter": {
   "hash": "70416e856ae5d0160726dc771ece7d4fe19c671bbcf9db1a8599914188aeafbe"
  },
  "kernelspec": {
   "display_name": "Python 3.8.8 ('burak-pytorch')",
   "language": "python",
   "name": "python3"
  },
  "language_info": {
   "codemirror_mode": {
    "name": "ipython",
    "version": 3
   },
   "file_extension": ".py",
   "mimetype": "text/x-python",
   "name": "python",
   "nbconvert_exporter": "python",
   "pygments_lexer": "ipython3",
   "version": "3.6.9"
  },
  "orig_nbformat": 4
 },
 "nbformat": 4,
 "nbformat_minor": 2
}
