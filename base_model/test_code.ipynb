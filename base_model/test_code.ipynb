{
 "cells": [
  {
   "cell_type": "code",
   "execution_count": null,
   "metadata": {},
   "outputs": [],
   "source": [
    "al = list(name for name,value in ResNet.named_parameters())\n",
    "for idx, (name, param) in enumerate(ResNet.named_parameters()):\n",
    "    # Freeze first 2 layers\n",
    "    if idx <= 2 or \"layer1\" in name or \"layer2\" in name:\n",
    "        param.requires_grad = False\n",
    "\n",
    "print(al)\n",
    "al_req = list(value.requires_grad for name,value in ResNet.named_parameters())\n",
    "print(al_req)\n",
    "print(ResNet.conv1.weight.requires_grad)\n",
    "# for param in ResNet.parameters():\n",
    "#     print(param.requires_grad)"
   ]
  }
 ],
 "metadata": {
  "language_info": {
   "name": "python"
  },
  "orig_nbformat": 4
 },
 "nbformat": 4,
 "nbformat_minor": 2
}
